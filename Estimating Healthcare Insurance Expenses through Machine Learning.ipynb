{
 "cells": [
  {
   "cell_type": "markdown",
   "id": "dcde6bb0",
   "metadata": {},
   "source": [
    "# Estimating Healthcare Insurance Expenses through Machine Learning.\n",
    "In the ever-evolving landscape of healthcare, where costs have soared due to the complexities of the modern healthcare system, the power of data has emerged as a beacon of hope. Healthcare analytics, much like a skilled navigator, holds the key to understanding and transforming the intricate web of health insurance costs. This is the mission of our project: to harness the transformative potential of data.\n",
    "\n",
    "Our journey begins with the realization that health insurance costs have reached unprecedented levels. This escalation is a result of numerous factors, including the rising cost of healthcare services and an array of individual characteristics. It's a multifaceted puzzle that calls for a comprehensive solution.\n",
    "\n",
    "We embark on this mission with the heart of a data virtuoso. Armed with the latest tools and techniques in healthcare analytics, we delve into a vast dataset, comprising variables such as age, sex, BMI, number of children, smoking habits, and region. Like a sculptor chiseling away at a block of marble, we meticulously dissect and interpret this data, applying both quantitative and qualitative methods to reveal the hidden insights and patterns within.\n",
    "\n",
    "At the core of our analysis lies the prediction of medical costs – a crucial indicator that unlocks a world of possibilities. This prediction empowers individuals, healthcare providers, and insurers to make informed decisions. It guides patients toward better planning, assists healthcare professionals in optimizing treatment plans, and helps insurance providers in setting fair premiums.\n",
    "\n",
    "Collaboration is at the heart of our endeavor. We work closely with experts in the field, building a bridge between the world of data and the world of healthcare. The insights we generate through data analysis become the guiding stars, steering our stakeholders towards better decision-making. With compelling data visualizations, we breathe life into these insights, making them accessible and actionable.\n",
    "\n",
    "Our work, much like that of the unsung hero in the healthcare analytics narrative, may often go unnoticed. Yet, its impact is profound. It contributes to the ongoing saga of healthcare excellence, making the journey towards affordable and efficient healthcare that much more extraordinary.\n",
    "\n",
    "In the realm of health insurance cost prediction, we are the unsung heroes, unlocking the extraordinary stories of financial well-being, efficient healthcare planning, and a more accessible healthcare system. Our dedication to data and our ability to transform it into actionable insights shape the path to a healthier, more financially secure future for all."
   ]
  },
  {
   "cell_type": "markdown",
   "id": "0774206c",
   "metadata": {},
   "source": [
    "**Analyzing Insurance Costs**\n",
    "\n",
    "In the quest to make healthcare accessible and affordable, we embark on the task of analyzing insurance costs using the data at our disposal. This endeavor is driven by a profound need to understand the factors that influence healthcare expenses, enabling us to provide individuals and healthcare stakeholders with the insights they need to make informed decisions. Our data, extracted from the \"insurance.csv\" file, holds the key to unraveling the mysteries of cost determinants such as age, gender, BMI, family size, smoking habits, and geographical location. As we load this dataset into our analysis, we prepare to unlock a world of possibilities. By exploring these data patterns and relationships, we strive to empower individuals with the knowledge required to plan for their financial health. Ultimately, our mission is to pave the way for more efficient healthcare planning, fairer insurance premiums, and a future where healthcare is within reach for everyone."
   ]
  },
  {
   "cell_type": "code",
   "execution_count": 2,
   "id": "2e85ce83",
   "metadata": {},
   "outputs": [
    {
     "data": {
      "text/html": [
       "<div>\n",
       "<style scoped>\n",
       "    .dataframe tbody tr th:only-of-type {\n",
       "        vertical-align: middle;\n",
       "    }\n",
       "\n",
       "    .dataframe tbody tr th {\n",
       "        vertical-align: top;\n",
       "    }\n",
       "\n",
       "    .dataframe thead th {\n",
       "        text-align: right;\n",
       "    }\n",
       "</style>\n",
       "<table border=\"1\" class=\"dataframe\">\n",
       "  <thead>\n",
       "    <tr style=\"text-align: right;\">\n",
       "      <th></th>\n",
       "      <th>age</th>\n",
       "      <th>sex</th>\n",
       "      <th>bmi</th>\n",
       "      <th>children</th>\n",
       "      <th>smoker</th>\n",
       "      <th>region</th>\n",
       "      <th>charges</th>\n",
       "    </tr>\n",
       "  </thead>\n",
       "  <tbody>\n",
       "    <tr>\n",
       "      <th>0</th>\n",
       "      <td>19</td>\n",
       "      <td>female</td>\n",
       "      <td>27.900</td>\n",
       "      <td>0</td>\n",
       "      <td>yes</td>\n",
       "      <td>southwest</td>\n",
       "      <td>16884.92400</td>\n",
       "    </tr>\n",
       "    <tr>\n",
       "      <th>1</th>\n",
       "      <td>18</td>\n",
       "      <td>male</td>\n",
       "      <td>33.770</td>\n",
       "      <td>1</td>\n",
       "      <td>no</td>\n",
       "      <td>southeast</td>\n",
       "      <td>1725.55230</td>\n",
       "    </tr>\n",
       "    <tr>\n",
       "      <th>2</th>\n",
       "      <td>28</td>\n",
       "      <td>male</td>\n",
       "      <td>33.000</td>\n",
       "      <td>3</td>\n",
       "      <td>no</td>\n",
       "      <td>southeast</td>\n",
       "      <td>4449.46200</td>\n",
       "    </tr>\n",
       "    <tr>\n",
       "      <th>3</th>\n",
       "      <td>33</td>\n",
       "      <td>male</td>\n",
       "      <td>22.705</td>\n",
       "      <td>0</td>\n",
       "      <td>no</td>\n",
       "      <td>northwest</td>\n",
       "      <td>21984.47061</td>\n",
       "    </tr>\n",
       "    <tr>\n",
       "      <th>4</th>\n",
       "      <td>32</td>\n",
       "      <td>male</td>\n",
       "      <td>28.880</td>\n",
       "      <td>0</td>\n",
       "      <td>no</td>\n",
       "      <td>northwest</td>\n",
       "      <td>3866.85520</td>\n",
       "    </tr>\n",
       "  </tbody>\n",
       "</table>\n",
       "</div>"
      ],
      "text/plain": [
       "   age     sex     bmi  children smoker     region      charges\n",
       "0   19  female  27.900         0    yes  southwest  16884.92400\n",
       "1   18    male  33.770         1     no  southeast   1725.55230\n",
       "2   28    male  33.000         3     no  southeast   4449.46200\n",
       "3   33    male  22.705         0     no  northwest  21984.47061\n",
       "4   32    male  28.880         0     no  northwest   3866.85520"
      ]
     },
     "execution_count": 2,
     "metadata": {},
     "output_type": "execute_result"
    }
   ],
   "source": [
    "#--- Import Pandas ---\n",
    "import pandas as pd\n",
    "\n",
    "#--- Read in dataset ----\n",
    "df = pd.read_csv(r'C:\\Users\\swetha\\Documents\\Swetha\\Swetha_Documents\\hicounselor project\\insurance.csv')\n",
    "\n",
    "\n",
    "#--- Inspect data ---\n",
    "df.head()"
   ]
  },
  {
   "cell_type": "markdown",
   "id": "eb2d290f",
   "metadata": {},
   "source": [
    "**Unearthing Data Duplications**\n",
    "\n",
    "As we delve deeper into our mission to analyze insurance costs, we encounter a new challenge: data duplications. Our dedication to delivering accurate and reliable insights drives us to identify and address these duplications. By executing the code provided, we uncover the number of duplicate entries within our dataset. Removing these duplicates is paramount, as it ensures the integrity of our analysis, prevents skewed results, and allows us to maintain a high standard of data quality. This task may seem subtle, but its impact is profound, setting the stage for meaningful, actionable results. In our relentless pursuit of healthcare affordability, data quality is the cornerstone upon which we build a brighter and healthier future for all."
   ]
  },
  {
   "cell_type": "code",
   "execution_count": 3,
   "id": "f08dd78c",
   "metadata": {},
   "outputs": [
    {
     "data": {
      "text/plain": [
       "1"
      ]
     },
     "execution_count": 3,
     "metadata": {},
     "output_type": "execute_result"
    }
   ],
   "source": [
    "\n",
    "duplicates = df.duplicated().sum()\n",
    "#--- Inspect data ---\n",
    "duplicates"
   ]
  },
  {
   "cell_type": "markdown",
   "id": "7447ddb9",
   "metadata": {},
   "source": [
    "**Eliminating Duplications**\n",
    "\n",
    "In our ongoing quest to analyze insurance costs and promote healthcare affordability, we have encountered and successfully addressed a crucial task. By executing the code provided, we have eliminated data duplications within our dataset. This task is pivotal, as it ensures the accuracy and reliability of our analysis. With duplicate entries now removed, we can confidently proceed, knowing that our insights and predictions will be based on clean, high-quality data. Every step we take in refining our dataset brings us closer to our goal of providing individuals and healthcare stakeholders with precise and actionable information for better healthcare planning and decision-making. The elimination of duplications is yet another stride toward a future where healthcare is both accessible and affordable for all."
   ]
  },
  {
   "cell_type": "code",
   "execution_count": 4,
   "id": "553063d8",
   "metadata": {},
   "outputs": [
    {
     "name": "stdout",
     "output_type": "stream",
     "text": [
      "0\n"
     ]
    }
   ],
   "source": [
    "df.drop_duplicates(inplace=True)\n",
    "#--- Inspect data ---\n",
    "\n",
    "print(df.duplicated().sum())"
   ]
  },
  {
   "cell_type": "markdown",
   "id": "f574ee4e",
   "metadata": {},
   "source": [
    "**Shoring Up Data Gaps**\n",
    "\n",
    "In our relentless pursuit of accurate and insightful healthcare analytics, we confront another critical task – identifying and handling missing data. By executing the code provided, we assess the extent of missing values within our dataset. It's a crucial endeavor because complete data is the bedrock of reliable analysis. With a clear understanding of where data gaps exist, we can make informed decisions on how to handle them, whether through imputation or exclusion. Our commitment to data completeness not only enhances the quality of our analysis but also empowers us to provide individuals and healthcare stakeholders with a comprehensive view of the factors influencing insurance costs. Every null value addressed is a step closer to our vision of a healthcare landscape where no one is left in the dark, and everyone can plan for a healthier and more financially secure future."
   ]
  },
  {
   "cell_type": "code",
   "execution_count": 5,
   "id": "0884631b",
   "metadata": {},
   "outputs": [
    {
     "data": {
      "text/plain": [
       "age         0\n",
       "sex         0\n",
       "bmi         0\n",
       "children    0\n",
       "smoker      0\n",
       "region      0\n",
       "charges     0\n",
       "dtype: int64"
      ]
     },
     "execution_count": 5,
     "metadata": {},
     "output_type": "execute_result"
    }
   ],
   "source": [
    "\n",
    "null_values = df.isnull().sum()\n",
    "\n",
    "#--- Inspect data ---\n",
    "null_values"
   ]
  },
  {
   "cell_type": "code",
   "execution_count": 6,
   "id": "adc2f8c6",
   "metadata": {},
   "outputs": [
    {
     "data": {
      "text/plain": [
       "southeast    364\n",
       "southwest    325\n",
       "northwest    324\n",
       "northeast    324\n",
       "Name: region, dtype: int64"
      ]
     },
     "execution_count": 6,
     "metadata": {},
     "output_type": "execute_result"
    }
   ],
   "source": [
    "df['region'].value_counts()"
   ]
  },
  {
   "cell_type": "markdown",
   "id": "478278e4",
   "metadata": {},
   "source": [
    "**Empowering Analysis with Encoded Insights**\n",
    "\n",
    "\n",
    "Our journey to decipher the intricacies of healthcare insurance costs continues with a pivotal task: encoding categorical features. By employing the LabelEncoder from the sklearn library, we convert non-numeric attributes such as 'sex' and 'smoker' into numerical values. This transformation is essential as it enables us to feed these features into our analytical models, providing a more comprehensive understanding of the factors influencing insurance costs. This coding task bridges the gap between data and actionable insights, setting the stage for robust analysis. With each attribute transformed, we move closer to uncovering the hidden relationships within our data and facilitating more precise predictions. Our commitment to encoding is a testament to our dedication to providing individuals and healthcare stakeholders with the tools they need to make informed decisions about their financial health and healthcare planning."
   ]
  },
  {
   "cell_type": "code",
   "execution_count": 7,
   "id": "070c133c",
   "metadata": {},
   "outputs": [
    {
     "data": {
      "text/html": [
       "<div>\n",
       "<style scoped>\n",
       "    .dataframe tbody tr th:only-of-type {\n",
       "        vertical-align: middle;\n",
       "    }\n",
       "\n",
       "    .dataframe tbody tr th {\n",
       "        vertical-align: top;\n",
       "    }\n",
       "\n",
       "    .dataframe thead th {\n",
       "        text-align: right;\n",
       "    }\n",
       "</style>\n",
       "<table border=\"1\" class=\"dataframe\">\n",
       "  <thead>\n",
       "    <tr style=\"text-align: right;\">\n",
       "      <th></th>\n",
       "      <th>age</th>\n",
       "      <th>sex</th>\n",
       "      <th>bmi</th>\n",
       "      <th>children</th>\n",
       "      <th>smoker</th>\n",
       "      <th>region</th>\n",
       "      <th>charges</th>\n",
       "    </tr>\n",
       "  </thead>\n",
       "  <tbody>\n",
       "    <tr>\n",
       "      <th>0</th>\n",
       "      <td>19</td>\n",
       "      <td>0</td>\n",
       "      <td>27.900</td>\n",
       "      <td>0</td>\n",
       "      <td>1</td>\n",
       "      <td>southwest</td>\n",
       "      <td>16884.92400</td>\n",
       "    </tr>\n",
       "    <tr>\n",
       "      <th>1</th>\n",
       "      <td>18</td>\n",
       "      <td>1</td>\n",
       "      <td>33.770</td>\n",
       "      <td>1</td>\n",
       "      <td>0</td>\n",
       "      <td>southeast</td>\n",
       "      <td>1725.55230</td>\n",
       "    </tr>\n",
       "    <tr>\n",
       "      <th>2</th>\n",
       "      <td>28</td>\n",
       "      <td>1</td>\n",
       "      <td>33.000</td>\n",
       "      <td>3</td>\n",
       "      <td>0</td>\n",
       "      <td>southeast</td>\n",
       "      <td>4449.46200</td>\n",
       "    </tr>\n",
       "    <tr>\n",
       "      <th>3</th>\n",
       "      <td>33</td>\n",
       "      <td>1</td>\n",
       "      <td>22.705</td>\n",
       "      <td>0</td>\n",
       "      <td>0</td>\n",
       "      <td>northwest</td>\n",
       "      <td>21984.47061</td>\n",
       "    </tr>\n",
       "    <tr>\n",
       "      <th>4</th>\n",
       "      <td>32</td>\n",
       "      <td>1</td>\n",
       "      <td>28.880</td>\n",
       "      <td>0</td>\n",
       "      <td>0</td>\n",
       "      <td>northwest</td>\n",
       "      <td>3866.85520</td>\n",
       "    </tr>\n",
       "  </tbody>\n",
       "</table>\n",
       "</div>"
      ],
      "text/plain": [
       "   age  sex     bmi  children  smoker     region      charges\n",
       "0   19    0  27.900         0       1  southwest  16884.92400\n",
       "1   18    1  33.770         1       0  southeast   1725.55230\n",
       "2   28    1  33.000         3       0  southeast   4449.46200\n",
       "3   33    1  22.705         0       0  northwest  21984.47061\n",
       "4   32    1  28.880         0       0  northwest   3866.85520"
      ]
     },
     "execution_count": 7,
     "metadata": {},
     "output_type": "execute_result"
    }
   ],
   "source": [
    "\n",
    "from sklearn.preprocessing import LabelEncoder\n",
    "lab_encode = LabelEncoder ()\n",
    "# df = ...\n",
    "\n",
    "columns_to_encode = [\"sex\",\"smoker\"]\n",
    "\n",
    "for column in columns_to_encode:\n",
    "    df[column] = lab_encode.fit_transform(df[column])\n",
    "    \n",
    "#--- Inspect data ---\n",
    "\n",
    "df.head()"
   ]
  },
  {
   "cell_type": "markdown",
   "id": "e47d1fbc",
   "metadata": {},
   "source": [
    "**Unleashing the Power of One-Hot Encoding**\n",
    "\n",
    "\n",
    "As we delve deeper into our quest to unravel the mysteries of healthcare insurance costs, we face a new challenge: encoding the 'region' attribute using one-hot encoding. This task is essential to translate geographical regions into numerical representations, allowing us to incorporate this valuable information into our analysis. By executing the code provided, we create a series of binary columns, each representing a different region. These columns serve as vital indicators, enabling us to discern the impact of location on insurance costs. Every region reveals unique insights, and this one-hot encoding process equips us with the means to uncover these intricate patterns. Our commitment to one-hot encoding is yet another testament to our dedication to providing individuals and healthcare stakeholders with a more comprehensive view of the factors influencing healthcare costs, empowering them to make informed decisions."
   ]
  },
  {
   "cell_type": "code",
   "execution_count": 8,
   "id": "638703c4",
   "metadata": {},
   "outputs": [
    {
     "data": {
      "text/html": [
       "<div>\n",
       "<style scoped>\n",
       "    .dataframe tbody tr th:only-of-type {\n",
       "        vertical-align: middle;\n",
       "    }\n",
       "\n",
       "    .dataframe tbody tr th {\n",
       "        vertical-align: top;\n",
       "    }\n",
       "\n",
       "    .dataframe thead th {\n",
       "        text-align: right;\n",
       "    }\n",
       "</style>\n",
       "<table border=\"1\" class=\"dataframe\">\n",
       "  <thead>\n",
       "    <tr style=\"text-align: right;\">\n",
       "      <th></th>\n",
       "      <th>northeast</th>\n",
       "      <th>northwest</th>\n",
       "      <th>southeast</th>\n",
       "      <th>southwest</th>\n",
       "    </tr>\n",
       "  </thead>\n",
       "  <tbody>\n",
       "    <tr>\n",
       "      <th>0</th>\n",
       "      <td>0</td>\n",
       "      <td>0</td>\n",
       "      <td>0</td>\n",
       "      <td>1</td>\n",
       "    </tr>\n",
       "    <tr>\n",
       "      <th>1</th>\n",
       "      <td>0</td>\n",
       "      <td>0</td>\n",
       "      <td>1</td>\n",
       "      <td>0</td>\n",
       "    </tr>\n",
       "    <tr>\n",
       "      <th>2</th>\n",
       "      <td>0</td>\n",
       "      <td>0</td>\n",
       "      <td>1</td>\n",
       "      <td>0</td>\n",
       "    </tr>\n",
       "    <tr>\n",
       "      <th>3</th>\n",
       "      <td>0</td>\n",
       "      <td>1</td>\n",
       "      <td>0</td>\n",
       "      <td>0</td>\n",
       "    </tr>\n",
       "    <tr>\n",
       "      <th>4</th>\n",
       "      <td>0</td>\n",
       "      <td>1</td>\n",
       "      <td>0</td>\n",
       "      <td>0</td>\n",
       "    </tr>\n",
       "    <tr>\n",
       "      <th>...</th>\n",
       "      <td>...</td>\n",
       "      <td>...</td>\n",
       "      <td>...</td>\n",
       "      <td>...</td>\n",
       "    </tr>\n",
       "    <tr>\n",
       "      <th>1333</th>\n",
       "      <td>0</td>\n",
       "      <td>1</td>\n",
       "      <td>0</td>\n",
       "      <td>0</td>\n",
       "    </tr>\n",
       "    <tr>\n",
       "      <th>1334</th>\n",
       "      <td>1</td>\n",
       "      <td>0</td>\n",
       "      <td>0</td>\n",
       "      <td>0</td>\n",
       "    </tr>\n",
       "    <tr>\n",
       "      <th>1335</th>\n",
       "      <td>0</td>\n",
       "      <td>0</td>\n",
       "      <td>1</td>\n",
       "      <td>0</td>\n",
       "    </tr>\n",
       "    <tr>\n",
       "      <th>1336</th>\n",
       "      <td>0</td>\n",
       "      <td>0</td>\n",
       "      <td>0</td>\n",
       "      <td>1</td>\n",
       "    </tr>\n",
       "    <tr>\n",
       "      <th>1337</th>\n",
       "      <td>0</td>\n",
       "      <td>1</td>\n",
       "      <td>0</td>\n",
       "      <td>0</td>\n",
       "    </tr>\n",
       "  </tbody>\n",
       "</table>\n",
       "<p>1337 rows × 4 columns</p>\n",
       "</div>"
      ],
      "text/plain": [
       "      northeast  northwest  southeast  southwest\n",
       "0             0          0          0          1\n",
       "1             0          0          1          0\n",
       "2             0          0          1          0\n",
       "3             0          1          0          0\n",
       "4             0          1          0          0\n",
       "...         ...        ...        ...        ...\n",
       "1333          0          1          0          0\n",
       "1334          1          0          0          0\n",
       "1335          0          0          1          0\n",
       "1336          0          0          0          1\n",
       "1337          0          1          0          0\n",
       "\n",
       "[1337 rows x 4 columns]"
      ]
     },
     "execution_count": 8,
     "metadata": {},
     "output_type": "execute_result"
    }
   ],
   "source": [
    "\n",
    "one_hot_encode = pd.get_dummies(df['region'])\n",
    "\n",
    "#--- Inspect data ---\n",
    "one_hot_encode"
   ]
  },
  {
   "cell_type": "markdown",
   "id": "b62929d4",
   "metadata": {},
   "source": [
    "**Incorporating Regional Factors**\n",
    "\n",
    "In our relentless pursuit of comprehensive healthcare analysis, we have reached a critical juncture – the integration of regional data into our dataset. By concatenating the one-hot encoded 'region' columns, we expand our dataset's horizons. This task is crucial as it allows us to incorporate the influence of geographical regions on insurance costs into our analysis. With this enhancement, we are better equipped to unearth region-specific trends, offering a more detailed and nuanced perspective on cost determinants. Our commitment to this integration extends our mission to empower individuals and healthcare stakeholders with the tools they need to navigate the complexities of healthcare planning and financial decision-making. With each column added, we take a significant stride toward achieving our vision of a healthcare landscape where insights are both comprehensive and actionable."
   ]
  },
  {
   "cell_type": "code",
   "execution_count": 9,
   "id": "ee47261a",
   "metadata": {},
   "outputs": [
    {
     "data": {
      "text/html": [
       "<div>\n",
       "<style scoped>\n",
       "    .dataframe tbody tr th:only-of-type {\n",
       "        vertical-align: middle;\n",
       "    }\n",
       "\n",
       "    .dataframe tbody tr th {\n",
       "        vertical-align: top;\n",
       "    }\n",
       "\n",
       "    .dataframe thead th {\n",
       "        text-align: right;\n",
       "    }\n",
       "</style>\n",
       "<table border=\"1\" class=\"dataframe\">\n",
       "  <thead>\n",
       "    <tr style=\"text-align: right;\">\n",
       "      <th></th>\n",
       "      <th>age</th>\n",
       "      <th>sex</th>\n",
       "      <th>bmi</th>\n",
       "      <th>children</th>\n",
       "      <th>smoker</th>\n",
       "      <th>region</th>\n",
       "      <th>charges</th>\n",
       "      <th>northeast</th>\n",
       "      <th>northwest</th>\n",
       "      <th>southeast</th>\n",
       "      <th>southwest</th>\n",
       "    </tr>\n",
       "  </thead>\n",
       "  <tbody>\n",
       "    <tr>\n",
       "      <th>0</th>\n",
       "      <td>19</td>\n",
       "      <td>0</td>\n",
       "      <td>27.900</td>\n",
       "      <td>0</td>\n",
       "      <td>1</td>\n",
       "      <td>southwest</td>\n",
       "      <td>16884.92400</td>\n",
       "      <td>0</td>\n",
       "      <td>0</td>\n",
       "      <td>0</td>\n",
       "      <td>1</td>\n",
       "    </tr>\n",
       "    <tr>\n",
       "      <th>1</th>\n",
       "      <td>18</td>\n",
       "      <td>1</td>\n",
       "      <td>33.770</td>\n",
       "      <td>1</td>\n",
       "      <td>0</td>\n",
       "      <td>southeast</td>\n",
       "      <td>1725.55230</td>\n",
       "      <td>0</td>\n",
       "      <td>0</td>\n",
       "      <td>1</td>\n",
       "      <td>0</td>\n",
       "    </tr>\n",
       "    <tr>\n",
       "      <th>2</th>\n",
       "      <td>28</td>\n",
       "      <td>1</td>\n",
       "      <td>33.000</td>\n",
       "      <td>3</td>\n",
       "      <td>0</td>\n",
       "      <td>southeast</td>\n",
       "      <td>4449.46200</td>\n",
       "      <td>0</td>\n",
       "      <td>0</td>\n",
       "      <td>1</td>\n",
       "      <td>0</td>\n",
       "    </tr>\n",
       "    <tr>\n",
       "      <th>3</th>\n",
       "      <td>33</td>\n",
       "      <td>1</td>\n",
       "      <td>22.705</td>\n",
       "      <td>0</td>\n",
       "      <td>0</td>\n",
       "      <td>northwest</td>\n",
       "      <td>21984.47061</td>\n",
       "      <td>0</td>\n",
       "      <td>1</td>\n",
       "      <td>0</td>\n",
       "      <td>0</td>\n",
       "    </tr>\n",
       "    <tr>\n",
       "      <th>4</th>\n",
       "      <td>32</td>\n",
       "      <td>1</td>\n",
       "      <td>28.880</td>\n",
       "      <td>0</td>\n",
       "      <td>0</td>\n",
       "      <td>northwest</td>\n",
       "      <td>3866.85520</td>\n",
       "      <td>0</td>\n",
       "      <td>1</td>\n",
       "      <td>0</td>\n",
       "      <td>0</td>\n",
       "    </tr>\n",
       "  </tbody>\n",
       "</table>\n",
       "</div>"
      ],
      "text/plain": [
       "   age  sex     bmi  children  smoker     region      charges  northeast  \\\n",
       "0   19    0  27.900         0       1  southwest  16884.92400          0   \n",
       "1   18    1  33.770         1       0  southeast   1725.55230          0   \n",
       "2   28    1  33.000         3       0  southeast   4449.46200          0   \n",
       "3   33    1  22.705         0       0  northwest  21984.47061          0   \n",
       "4   32    1  28.880         0       0  northwest   3866.85520          0   \n",
       "\n",
       "   northwest  southeast  southwest  \n",
       "0          0          0          1  \n",
       "1          0          1          0  \n",
       "2          0          1          0  \n",
       "3          1          0          0  \n",
       "4          1          0          0  "
      ]
     },
     "execution_count": 9,
     "metadata": {},
     "output_type": "execute_result"
    }
   ],
   "source": [
    "df1 = pd.concat([df,one_hot_encode], axis = 1)\n",
    "\n",
    "#--- Inspect data ---\n",
    "df1.head()"
   ]
  },
  {
   "cell_type": "markdown",
   "id": "4b92588c",
   "metadata": {},
   "source": [
    "**Removing Redundancy**\n",
    "\n",
    "\n",
    "In our ongoing journey to unlock the secrets of healthcare insurance costs, we reach a crucial juncture – the removal of the 'region' column from our dataset. This task is vital as it streamlines our data, eliminating redundancy while preserving the valuable regional insights we've gained through one-hot encoding. By executing this step, we enhance the efficiency of our analysis, making it easier to identify the true determinants of insurance costs. Our commitment to this data refinement aligns with our mission to provide individuals and healthcare stakeholders with precise and actionable insights for healthcare planning and financial decision-making. With each column removed, we advance further toward our vision of a healthcare landscape where data is clear, comprehensive, and focused on improving the health and financial well-being of all."
   ]
  },
  {
   "cell_type": "code",
   "execution_count": 10,
   "id": "29292b24",
   "metadata": {},
   "outputs": [
    {
     "data": {
      "text/html": [
       "<div>\n",
       "<style scoped>\n",
       "    .dataframe tbody tr th:only-of-type {\n",
       "        vertical-align: middle;\n",
       "    }\n",
       "\n",
       "    .dataframe tbody tr th {\n",
       "        vertical-align: top;\n",
       "    }\n",
       "\n",
       "    .dataframe thead th {\n",
       "        text-align: right;\n",
       "    }\n",
       "</style>\n",
       "<table border=\"1\" class=\"dataframe\">\n",
       "  <thead>\n",
       "    <tr style=\"text-align: right;\">\n",
       "      <th></th>\n",
       "      <th>age</th>\n",
       "      <th>sex</th>\n",
       "      <th>bmi</th>\n",
       "      <th>children</th>\n",
       "      <th>smoker</th>\n",
       "      <th>charges</th>\n",
       "      <th>northeast</th>\n",
       "      <th>northwest</th>\n",
       "      <th>southeast</th>\n",
       "      <th>southwest</th>\n",
       "    </tr>\n",
       "  </thead>\n",
       "  <tbody>\n",
       "    <tr>\n",
       "      <th>0</th>\n",
       "      <td>19</td>\n",
       "      <td>0</td>\n",
       "      <td>27.900</td>\n",
       "      <td>0</td>\n",
       "      <td>1</td>\n",
       "      <td>16884.92400</td>\n",
       "      <td>0</td>\n",
       "      <td>0</td>\n",
       "      <td>0</td>\n",
       "      <td>1</td>\n",
       "    </tr>\n",
       "    <tr>\n",
       "      <th>1</th>\n",
       "      <td>18</td>\n",
       "      <td>1</td>\n",
       "      <td>33.770</td>\n",
       "      <td>1</td>\n",
       "      <td>0</td>\n",
       "      <td>1725.55230</td>\n",
       "      <td>0</td>\n",
       "      <td>0</td>\n",
       "      <td>1</td>\n",
       "      <td>0</td>\n",
       "    </tr>\n",
       "    <tr>\n",
       "      <th>2</th>\n",
       "      <td>28</td>\n",
       "      <td>1</td>\n",
       "      <td>33.000</td>\n",
       "      <td>3</td>\n",
       "      <td>0</td>\n",
       "      <td>4449.46200</td>\n",
       "      <td>0</td>\n",
       "      <td>0</td>\n",
       "      <td>1</td>\n",
       "      <td>0</td>\n",
       "    </tr>\n",
       "    <tr>\n",
       "      <th>3</th>\n",
       "      <td>33</td>\n",
       "      <td>1</td>\n",
       "      <td>22.705</td>\n",
       "      <td>0</td>\n",
       "      <td>0</td>\n",
       "      <td>21984.47061</td>\n",
       "      <td>0</td>\n",
       "      <td>1</td>\n",
       "      <td>0</td>\n",
       "      <td>0</td>\n",
       "    </tr>\n",
       "    <tr>\n",
       "      <th>4</th>\n",
       "      <td>32</td>\n",
       "      <td>1</td>\n",
       "      <td>28.880</td>\n",
       "      <td>0</td>\n",
       "      <td>0</td>\n",
       "      <td>3866.85520</td>\n",
       "      <td>0</td>\n",
       "      <td>1</td>\n",
       "      <td>0</td>\n",
       "      <td>0</td>\n",
       "    </tr>\n",
       "  </tbody>\n",
       "</table>\n",
       "</div>"
      ],
      "text/plain": [
       "   age  sex     bmi  children  smoker      charges  northeast  northwest  \\\n",
       "0   19    0  27.900         0       1  16884.92400          0          0   \n",
       "1   18    1  33.770         1       0   1725.55230          0          0   \n",
       "2   28    1  33.000         3       0   4449.46200          0          0   \n",
       "3   33    1  22.705         0       0  21984.47061          0          1   \n",
       "4   32    1  28.880         0       0   3866.85520          0          1   \n",
       "\n",
       "   southeast  southwest  \n",
       "0          0          1  \n",
       "1          1          0  \n",
       "2          1          0  \n",
       "3          0          0  \n",
       "4          0          0  "
      ]
     },
     "execution_count": 10,
     "metadata": {},
     "output_type": "execute_result"
    }
   ],
   "source": [
    "df1.drop('region',axis =1, inplace = True )\n",
    "\n",
    "#--- Inspect data ---\n",
    "df1.head()"
   ]
  },
  {
   "cell_type": "markdown",
   "id": "24029a35",
   "metadata": {},
   "source": [
    "**Setting the Stage for Precise Predictions**\n",
    "\n",
    "\n",
    "In our journey to gain a deep understanding of healthcare insurance costs, we have reached a pivotal moment – the division of our dataset into training and test sets. This task is essential as it prepares us for accurate predictions by creating distinct subsets for model training and evaluation. By executing the code provided, we allocate 80% of the data to the training set and 20% to the test set, ensuring a robust and reliable analysis. Our commitment to this data split reflects our dedication to providing individuals and healthcare stakeholders with precise predictions for healthcare planning and financial decision-making. With each split, we move closer to achieving our vision of a healthcare landscape where insights are not just comprehensive but also highly accurate, ultimately promoting financial and health well-being for all."
   ]
  },
  {
   "cell_type": "code",
   "execution_count": 11,
   "id": "9c576f87",
   "metadata": {},
   "outputs": [],
   "source": [
    "\n",
    "from sklearn.model_selection import train_test_split\n",
    "\n",
    "# X_train, X_test, y_train, y_test = ...\n",
    "\n",
    "X = df1.drop(\"charges\", axis=1)\n",
    "y = df1['charges']\n",
    "\n",
    "X_train, X_test, y_train, y_test = train_test_split(X, y, test_size=0.2, random_state=42)\n",
    "\n"
   ]
  },
  {
   "cell_type": "markdown",
   "id": "a8dee449",
   "metadata": {},
   "source": [
    "**Evaluating Model Performance**\n",
    "\n",
    "\n",
    "In our pursuit of uncovering the intricacies of healthcare insurance costs, we shift our focus to evaluating the performance of a Random Forest Regression model. This task is essential in understanding how well our model can predict insurance charges, providing a crucial tool for making informed financial and healthcare decisions. By employing cross-validation with 10 folds, we assess the model's performance and calculate the root mean squared error (RMSE). The RMSE serves as a metric of the model's predictive accuracy, helping us determine how well it can make cost predictions. Our commitment to this performance evaluation aligns with our mission to empower individuals and healthcare stakeholders with precise insights for healthcare planning and financial decision-making. With each performance metric calculated, we approach our goal of a healthcare landscape where predictions are not just comprehensive but also highly accurate, paving the way for better financial and health well-being for all."
   ]
  },
  {
   "cell_type": "code",
   "execution_count": 20,
   "id": "0e347352",
   "metadata": {},
   "outputs": [],
   "source": [
    "import numpy as np\n",
    "from sklearn.model_selection import cross_val_score\n",
    "from sklearn.ensemble import RandomForestRegressor\n",
    "rand_forest_model = RandomForestRegressor(n_estimators=50, n_jobs=2, random_state=42)\n",
    "\n",
    "scores = cross_val_score(rand_forest_model, X_train, y_train, scoring=\"neg_mean_squared_error\", cv=10)\n",
    "\n",
    "# Calculate RMSE from negative mean squared error scores\n",
    "rmse_values = np.sqrt(-scores)\n",
    "\n",
    "# Compute the standard deviation of RMSE values\n",
    "\n",
    "std = np.std(rmse_values)\n"
   ]
  },
  {
   "cell_type": "code",
   "execution_count": 21,
   "id": "74442e09",
   "metadata": {},
   "outputs": [
    {
     "name": "stdout",
     "output_type": "stream",
     "text": [
      "   Actual Charges  Predicted Charges\n",
      "0         8688.86           10334.48\n",
      "1         5708.87            6651.49\n",
      "2        11436.74           12295.40\n",
      "3        38746.36           42608.01\n",
      "4         4463.21            6853.03\n",
      "5         9304.70            9366.65\n",
      "6        38511.63           39526.20\n",
      "7         2150.47            2194.72\n",
      "8         7345.73            8516.75\n",
      "9        10264.44           10708.99\n"
     ]
    }
   ],
   "source": [
    "rand_forest_model.fit(X_train, y_train)\n",
    "\n",
    "predictions = rand_forest_model.predict(X_test)\n",
    "\n",
    "# Create rounded predictions\n",
    "rounded_predictions = np.round(predictions, 2)\n",
    "\n",
    "# Convert 'y_test' to a NumPy array and round it to 2 decimal places\n",
    "y_test_rounded = np.round(y_test.values, 2)\n",
    "\n",
    "# Create 'compare' DataFrame with the first 10 instances\n",
    "compare = pd.DataFrame({'Actual Charges': y_test_rounded[:10], 'Predicted Charges': rounded_predictions[:10]})\n",
    "\n",
    "\n",
    "print(compare)"
   ]
  },
  {
   "cell_type": "code",
   "execution_count": 32,
   "id": "2fc56d09",
   "metadata": {},
   "outputs": [
    {
     "data": {
      "image/png": "[encoded data removed]",
      "text/plain": [
       "<Figure size 800x600 with 1 Axes>"
      ]
     },
     "metadata": {},
     "output_type": "display_data"
    }
   ],
   "source": [
    "import matplotlib.pyplot as plt\n",
    "\n",
    "# Assuming 'y_test_rounded' contains the actual charges and 'rounded_predictions' contains the predicted charges\n",
    "# Ensure that both 'y_test_rounded' and 'rounded_predictions' have the same length\n",
    "\n",
    "# Create a scatter plot\n",
    "plt.figure(figsize=(8, 6))\n",
    "plt.scatter(y_test_rounded, rounded_predictions, alpha=0.5)\n",
    "plt.xlabel('Actual Charges')\n",
    "plt.ylabel('Predicted Charges')\n",
    "plt.title('Actual vs. Predicted Charges')\n",
    "\n",
    "# Add a diagonal line for reference (perfect prediction)\n",
    "plt.plot([min(y_test_rounded), max(y_test_rounded)], [min(y_test_rounded), max(y_test_rounded)], linestyle='--', color='red')\n",
    "\n",
    "plt.show()\n"
   ]
  },
  {
   "cell_type": "code",
   "execution_count": 13,
   "id": "71ab0cfc",
   "metadata": {},
   "outputs": [],
   "source": [
    "rand_forest_model.fit(X_train, y_train)\n",
    "\n",
    "predictions = rand_forest_model.predict(X_test)\n",
    "\n",
    "# Create rounded predictions\n",
    "rounded_predictions = np.round(predictions, 2)\n",
    "\n",
    "# Convert 'y_test' to a NumPy array and round it to 2 decimal places\n",
    "y_test_rounded = np.round(y_test.values, 2)\n",
    "\n",
    "# Create 'compare' DataFrame with the first 10 instances\n",
    "complete_comparison = pd.DataFrame({'Actual Charges': y_test_rounded, 'Predicted Charges': rounded_predictions})\n"
   ]
  },
  {
   "cell_type": "code",
   "execution_count": 17,
   "id": "0a0d9007",
   "metadata": {},
   "outputs": [
    {
     "data": {
      "image/png": "[encoded data removed]",
      "text/plain": [
       "<Figure size 1000x600 with 1 Axes>"
      ]
     },
     "metadata": {},
     "output_type": "display_data"
    }
   ],
   "source": [
    "import matplotlib.pyplot as plt\n",
    "\n",
    "# Create a scatter plot to visualize the comparison\n",
    "plt.figure(figsize=(10, 6))\n",
    "plt.scatter(complete_comparison['Actual Charges'], complete_comparison['Predicted Charges'])\n",
    "plt.title(\"Actual vs. Predicted Charges\")\n",
    "plt.xlabel(\"Actual Charges\")\n",
    "plt.ylabel(\"Predicted Charges\")\n",
    "plt.grid(True)\n",
    "plt.show()\n"
   ]
  },
  {
   "cell_type": "code",
   "execution_count": 29,
   "id": "0bddbae8",
   "metadata": {},
   "outputs": [
    {
     "name": "stdout",
     "output_type": "stream",
     "text": [
      "Average Percentage Increasae: 26.46%\n"
     ]
    }
   ],
   "source": [
    "# Calculate the percentage difference for each data point\n",
    "complete_comparison['Percentage_Difference'] = ((complete_comparison['Predicted Charges'] - complete_comparison['Actual Charges']) / complete_comparison['Actual Charges']) * 100\n",
    "\n",
    "# Calculate the average percentage difference\n",
    "average_percentage_difference = complete_comparison['Percentage_Difference'].mean()\n",
    "\n",
    "print(f\"Average Percentage Increasae: {average_percentage_difference:.2f}%\")\n"
   ]
  },
  {
   "cell_type": "markdown",
   "id": "c7bdf827",
   "metadata": {},
   "source": [
    "In the code above, we first calculate the percentage difference for each data point by subtracting the actual charges from the predicted charges, dividing by the actual charges, and then multiplying by 100 to express it as a percentage. After that, we calculate the average percentage difference across all data points.\n",
    "\n",
    "The average_percentage_difference will tell you the average percentage by which the predicted charges differ from the actual charges. 26.46% indicates that the predictions are, on average, 26.46% increases than the actual charges."
   ]
  }
 ],
 "metadata": {
  "kernelspec": {
   "display_name": "Python 3 (ipykernel)",
   "language": "python",
   "name": "python3"
  },
  "language_info": {
   "codemirror_mode": {
    "name": "ipython",
    "version": 3
   },
   "file_extension": ".py",
   "mimetype": "text/x-python",
   "name": "python",
   "nbconvert_exporter": "python",
   "pygments_lexer": "ipython3",
   "version": "3.9.16"
  }
 },
 "nbformat": 4,
 "nbformat_minor": 5
}
